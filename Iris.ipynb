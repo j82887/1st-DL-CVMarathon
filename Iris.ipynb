{
  "nbformat": 4,
  "nbformat_minor": 0,
  "metadata": {
    "colab": {
      "name": "Iris.ipynb",
      "provenance": [],
      "authorship_tag": "ABX9TyOHQ8/0NgFqASUUJ6JiWK7i",
      "include_colab_link": true
    },
    "kernelspec": {
      "name": "python3",
      "display_name": "Python 3"
    }
  },
  "cells": [
    {
      "cell_type": "markdown",
      "metadata": {
        "id": "view-in-github",
        "colab_type": "text"
      },
      "source": [
        "<a href=\"https://colab.research.google.com/github/j82887/1st-DL-CVMarathon/blob/master/Iris.ipynb\" target=\"_parent\"><img src=\"https://colab.research.google.com/assets/colab-badge.svg\" alt=\"Open In Colab\"/></a>"
      ]
    },
    {
      "cell_type": "code",
      "metadata": {
        "id": "PnQNbjNw6M0E",
        "colab_type": "code",
        "colab": {
          "base_uri": "https://localhost:8080/",
          "height": 584
        },
        "outputId": "9682efed-f5ac-424b-e6da-db377f6ca6d6"
      },
      "source": [
        "from sklearn.datasets import load_iris  #匯入資料集iris \n",
        "import numpy as np\n",
        "from sklearn.linear_model import LogisticRegression #匯入模型\n",
        "from sklearn.metrics import roc_curve, auc, accuracy_score, confusion_matrix #驗證指標\n",
        "from sklearn.model_selection import train_test_split #分割訓練集與測試集\n",
        "import matplotlib.pyplot as plt\n",
        "\n",
        "#====================== 資料集(三分類) ===========================\n",
        "\n",
        "#載入資料集  \n",
        "iris = load_iris()  \n",
        "data = iris.data\n",
        "label = iris.target\n",
        "name = iris.target_names\n",
        "\n",
        "#打印資料集  \n",
        "print(\"資料的大小：\",data.shape)\n",
        "print(\"特徵名稱：\",name)\n",
        "\n",
        "#計算標籤數量\n",
        "unique, counts = np.unique(label, return_counts=True)\n",
        "print(\"標籤數量:\",dict(zip(unique, counts)))\n",
        "\n",
        "#分割訓練集與測試集\n",
        "X_train, X_test, y_train, y_test = train_test_split(data, label, test_size=0.5)\n",
        "\n",
        "#====================== 資料集(二分類) ===========================\n",
        "\n",
        "#刪除label為2的資料\n",
        "location_label_2 = []\n",
        "for i in range(len(data)):\n",
        "  if(label[i]==2):\n",
        "    location_label_2.append(i)\n",
        "\n",
        "data_2 = np.delete(data, location_label_2, axis=0) \n",
        "label_2 = np.delete(label, location_label_2, axis=0) \n",
        "name_2 = np.array(['setosa','versicolor'])\n",
        "\n",
        "#打印資料集  \n",
        "print(\"資料的大小：\",data_2.shape)\n",
        "print(\"特徵名稱：\",name_2)\n",
        "\n",
        "#計算標籤數量\n",
        "unique, counts = np.unique(label_2, return_counts=True)\n",
        "print(\"標籤數量:\",dict(zip(unique, counts)))\n",
        "\n",
        "#分割訓練集與測試集\n",
        "X_train_2, X_test_2, y_train_2, y_test_2 = train_test_split(data_2, label_2, test_size=0.5)\n",
        "\n",
        "#====================== 模型訓練(三分類) ===========================\n",
        "\n",
        "#模型建立\n",
        "model = LogisticRegression(C=1, random_state=0)\n",
        "\n",
        "#模型訓練\n",
        "model.fit(X_train, y_train)\n",
        "\n",
        "#預測\n",
        "predict = model.predict(X_test) \n",
        "predict_proba = model.predict_proba(X_test)\n",
        "\n",
        "#====================== 模型驗證(三分類) ===========================\n",
        "\n",
        "#驗證指標\n",
        "print(\"混淆矩陣：\\n\",confusion_matrix(y_test, predict))\n",
        "print(\"準確度：\\n\",accuracy_score(y_test, predict))\n",
        "\n",
        "#====================== 模型訓練(二分類) ===========================\n",
        "\n",
        "#模型建立\n",
        "model_2 = LogisticRegression(C=1, random_state=0)\n",
        "\n",
        "#模型訓練\n",
        "model_2.fit(X_train_2, y_train_2)\n",
        "\n",
        "#預測\n",
        "predict_2 = model_2.predict(X_test_2) \n",
        "predict_proba_2 = model_2.predict_proba(X_test_2)\n",
        "\n",
        "#====================== 模型驗證(三分類) ===========================\n",
        "\n",
        "#驗證指標\n",
        "print(\"混淆矩陣：\\n\",confusion_matrix(y_test_2, predict_2))\n",
        "print(\"準確度：\\n\",accuracy_score(y_test_2, predict_2))\n",
        "\n",
        "#ROC曲線計算切點、fpr、tpr與曲線下面積\n",
        "fpr, tpr, thresholds = roc_curve(y_test_2, predict_proba_2[:,1])\n",
        "roc_auc = auc(fpr, tpr)\n",
        "\n",
        "#繪製ROC曲線與曲面下面積\n",
        "plt.figure()\n",
        "plt.plot(fpr, tpr, color='darkorange',lw=2, label='ROC curve (area = %0.2f)' % roc_auc)\n",
        "plt.plot([0, 1], [0, 1], color='navy', lw=2, linestyle='--')\n",
        "plt.xlim([-0.05, 1.05])\n",
        "plt.ylim([-0.05, 1.05])\n",
        "plt.xlabel('False Positive Rate')\n",
        "plt.ylabel('True Positive Rate')\n",
        "plt.title('Receiver Operating Characteristic')\n",
        "plt.legend(loc=\"lower right\")\n",
        "plt.show()"
      ],
      "execution_count": 48,
      "outputs": [
        {
          "output_type": "stream",
          "text": [
            "資料的大小： (150, 4)\n",
            "特徵名稱： ['setosa' 'versicolor' 'virginica']\n",
            "標籤數量: {0: 50, 1: 50, 2: 50}\n",
            "資料的大小： (100, 4)\n",
            "特徵名稱： ['setosa' 'versicolor']\n",
            "標籤數量: {0: 50, 1: 50}\n",
            "混淆矩陣：\n",
            " [[25  0  0]\n",
            " [ 0 20  2]\n",
            " [ 0  2 26]]\n",
            "準確度：\n",
            " 0.9466666666666667\n",
            "混淆矩陣：\n",
            " [[25  0]\n",
            " [ 0 25]]\n",
            "準確度：\n",
            " 1.0\n"
          ],
          "name": "stdout"
        },
        {
          "output_type": "display_data",
          "data": {
            "image/png": "[encoded data removed]",
            "text/plain": [
              "<Figure size 432x288 with 1 Axes>"
            ]
          },
          "metadata": {
            "tags": []
          }
        }
      ]
    }
  ]
}